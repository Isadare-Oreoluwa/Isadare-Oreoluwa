{
 "cells": [
  {
   "cell_type": "markdown",
   "id": "33dda299-ad0e-4262-b285-7d1297a3ba66",
   "metadata": {},
   "source": [
    "![Hand with calculator](calculator.jpg)\n",
    "\n",
    "Did you know that the average return from investing in stocks is [10% per year](https://www.nerdwallet.com/article/investing/average-stock-market-return) (not accounting for inflation)? But who wants to be average?! \n",
    "\n",
    "You have been asked to support an investment firm by analyzing trends in high-growth companies. They are interested in understanding which industries are producing the highest valuations and the rate at which new high-value companies are emerging. Providing them with this information gives them a competitive insight as to industry trends and how they should structure their portfolio looking forward.\n",
    "\n",
    "You have been given access to their `unicorns` database, which contains the following tables:\n",
    "\n",
    "## dates\n",
    "| Column       | Description                                  |\n",
    "|------------- |--------------------------------------------- |\n",
    "| `company_id`   | A unique ID for the company.                 |\n",
    "| `date_joined` | The date that the company became a unicorn.  |\n",
    "| `year_founded` | The year that the company was founded.       |\n",
    "\n",
    "## funding\n",
    "| Column           | Description                                  |\n",
    "|----------------- |--------------------------------------------- |\n",
    "| `company_id`       | A unique ID for the company.                 |\n",
    "| `valuation`        | Company value in US dollars.                 |\n",
    "| `funding`          | The amount of funding raised in US dollars.  |\n",
    "| `select_investors` | A list of key investors in the company.      |\n",
    "\n",
    "## industries\n",
    "| Column       | Description                                  |\n",
    "|------------- |--------------------------------------------- |\n",
    "| `company_id`   | A unique ID for the company.                 |\n",
    "| `industry`     | The industry that the company operates in.   |\n",
    "\n",
    "## companies\n",
    "| Column       | Description                                       |\n",
    "|------------- |-------------------------------------------------- |\n",
    "| `company_id`   | A unique ID for the company.                      |\n",
    "| `company`      | The name of the company.                          |\n",
    "| `city`         | The city where the company is headquartered.      |\n",
    "| `country`      | The country where the company is headquartered.   |\n",
    "| `continent`    | The continent where the company is headquartered. |\n"
   ]
  },
  {
   "cell_type": "code",
   "execution_count": 5,
   "id": "8d7d8de9-5da9-4b35-bc60-9f0502eb56d6",
   "metadata": {
    "customType": "sql",
    "dataFrameVariableName": "df",
    "executionCancelledAt": null,
    "executionTime": 919,
    "lastExecutedAt": 1723144602634,
    "lastExecutedByKernel": "065a5ecc-0067-4b4a-887e-891f85ea80a5",
    "lastScheduledRunId": null,
    "lastSuccessfullyExecutedCode": "WITH best_industry AS (\n SELECT i.industry, \n\t\tCOUNT(*) AS num_unicorns\nFROM industries AS i\nLEFT JOIN dates AS d\nUSING(company_id)\nWHERE EXTRACT(year FROM d.date_joined) between 2019 AND 2021\nGROUP BY i.industry\nORDER BY num_unicorns DESC\nLIMIT 3),\n\nsecond AS (SELECT i.industry, \n\t\tEXTRACT(year FROM d.date_joined) AS year,\n\t\tCOUNT(*) AS num_unicorns,\n\t\tROUND(AVG(f.valuation/1000000000),2) AS average_valuation_billions\nFROM industries AS i\nLEFT JOIN dates AS d\nUSING(company_id)\nLEFT JOIN funding AS f\nUSING(company_id)\nWHERE EXTRACT(year FROM d.date_joined) between 2019 AND 2021\nGROUP BY i.industry, year\nORDER BY year DESC)\n\nSELECT \ts.industry,\n\t\ts.year,\n\t\ts.num_unicorns,\n\t\ts.average_valuation_billions\nFROM best_industry AS b\nJOIN second AS s\nON b.industry = s.industry;",
    "outputsMetadata": {
     "0": {
      "height": 295,
      "type": "dataFrame"
     }
    },
    "sqlCellMode": "dataFrame",
    "sqlSource": {
     "integrationId": "89e17161-a224-4a8a-846b-0adc0fe7a4b1",
     "type": "integration"
    }
   },
   "outputs": [
    {
     "data": {
      "application/com.datacamp.data-table.v2+json": {
       "table": {
        "data": {
         "average_valuation_billions": [
          2.47,
          2.75,
          2.15,
          4,
          4.33,
          4.35,
          2.58,
          6.8,
          4.23
         ],
         "index": [
          0,
          1,
          2,
          3,
          4,
          5,
          6,
          7,
          8
         ],
         "industry": [
          "E-commerce & direct-to-consumer",
          "Fintech",
          "Internet software & services",
          "E-commerce & direct-to-consumer",
          "Fintech",
          "Internet software & services",
          "E-commerce & direct-to-consumer",
          "Fintech",
          "Internet software & services"
         ],
         "num_unicorns": [
          47,
          138,
          119,
          16,
          15,
          20,
          12,
          20,
          13
         ],
         "year": [
          2021,
          2021,
          2021,
          2020,
          2020,
          2020,
          2019,
          2019,
          2019
         ]
        },
        "schema": {
         "fields": [
          {
           "name": "index",
           "type": "integer"
          },
          {
           "name": "industry",
           "type": "string"
          },
          {
           "name": "year",
           "type": "integer"
          },
          {
           "name": "num_unicorns",
           "type": "integer"
          },
          {
           "name": "average_valuation_billions",
           "type": "number"
          }
         ],
         "pandas_version": "1.4.0",
         "primaryKey": [
          "index"
         ]
        }
       },
       "total_rows": 9,
       "truncation_type": null
      },
      "text/html": [
       "<div>\n",
       "<style scoped>\n",
       "    .dataframe tbody tr th:only-of-type {\n",
       "        vertical-align: middle;\n",
       "    }\n",
       "\n",
       "    .dataframe tbody tr th {\n",
       "        vertical-align: top;\n",
       "    }\n",
       "\n",
       "    .dataframe thead th {\n",
       "        text-align: right;\n",
       "    }\n",
       "</style>\n",
       "<table border=\"1\" class=\"dataframe\">\n",
       "  <thead>\n",
       "    <tr style=\"text-align: right;\">\n",
       "      <th></th>\n",
       "      <th>industry</th>\n",
       "      <th>year</th>\n",
       "      <th>num_unicorns</th>\n",
       "      <th>average_valuation_billions</th>\n",
       "    </tr>\n",
       "  </thead>\n",
       "  <tbody>\n",
       "    <tr>\n",
       "      <th>0</th>\n",
       "      <td>E-commerce &amp; direct-to-consumer</td>\n",
       "      <td>2021</td>\n",
       "      <td>47</td>\n",
       "      <td>2.47</td>\n",
       "    </tr>\n",
       "    <tr>\n",
       "      <th>1</th>\n",
       "      <td>Fintech</td>\n",
       "      <td>2021</td>\n",
       "      <td>138</td>\n",
       "      <td>2.75</td>\n",
       "    </tr>\n",
       "    <tr>\n",
       "      <th>2</th>\n",
       "      <td>Internet software &amp; services</td>\n",
       "      <td>2021</td>\n",
       "      <td>119</td>\n",
       "      <td>2.15</td>\n",
       "    </tr>\n",
       "    <tr>\n",
       "      <th>3</th>\n",
       "      <td>E-commerce &amp; direct-to-consumer</td>\n",
       "      <td>2020</td>\n",
       "      <td>16</td>\n",
       "      <td>4.00</td>\n",
       "    </tr>\n",
       "    <tr>\n",
       "      <th>4</th>\n",
       "      <td>Fintech</td>\n",
       "      <td>2020</td>\n",
       "      <td>15</td>\n",
       "      <td>4.33</td>\n",
       "    </tr>\n",
       "    <tr>\n",
       "      <th>5</th>\n",
       "      <td>Internet software &amp; services</td>\n",
       "      <td>2020</td>\n",
       "      <td>20</td>\n",
       "      <td>4.35</td>\n",
       "    </tr>\n",
       "    <tr>\n",
       "      <th>6</th>\n",
       "      <td>E-commerce &amp; direct-to-consumer</td>\n",
       "      <td>2019</td>\n",
       "      <td>12</td>\n",
       "      <td>2.58</td>\n",
       "    </tr>\n",
       "    <tr>\n",
       "      <th>7</th>\n",
       "      <td>Fintech</td>\n",
       "      <td>2019</td>\n",
       "      <td>20</td>\n",
       "      <td>6.80</td>\n",
       "    </tr>\n",
       "    <tr>\n",
       "      <th>8</th>\n",
       "      <td>Internet software &amp; services</td>\n",
       "      <td>2019</td>\n",
       "      <td>13</td>\n",
       "      <td>4.23</td>\n",
       "    </tr>\n",
       "  </tbody>\n",
       "</table>\n",
       "</div>"
      ],
      "text/plain": [
       "                          industry  ...  average_valuation_billions\n",
       "0  E-commerce & direct-to-consumer  ...                        2.47\n",
       "1                          Fintech  ...                        2.75\n",
       "2     Internet software & services  ...                        2.15\n",
       "3  E-commerce & direct-to-consumer  ...                        4.00\n",
       "4                          Fintech  ...                        4.33\n",
       "5     Internet software & services  ...                        4.35\n",
       "6  E-commerce & direct-to-consumer  ...                        2.58\n",
       "7                          Fintech  ...                        6.80\n",
       "8     Internet software & services  ...                        4.23\n",
       "\n",
       "[9 rows x 4 columns]"
      ]
     },
     "execution_count": 5,
     "metadata": {},
     "output_type": "execute_result"
    }
   ],
   "source": [
    "-- The task will be broken down using two CTEs \n",
    "-- The best industry is found by counting the number of 'unicorns' in each industry and selecting the 3 highest ranking industries \n",
    "\n",
    "WITH best_industry AS (\n",
    " SELECT i.industry, \n",
    "\t\tCOUNT(*) AS num_unicorns -- counts the number of 'unicorns'\n",
    "FROM industries AS i\n",
    "LEFT JOIN dates AS d -- joins the dates table to the industries table\n",
    "USING(company_id)\n",
    "WHERE EXTRACT(year FROM d.date_joined) between 2019 AND 2021 -- filters for years 2019, 2020 and 2021\n",
    "GROUP BY i.industry\n",
    "ORDER BY num_unicorns DESC\n",
    "LIMIT 3),\n",
    "\n",
    "-- The average valuation for these industries are now calculated \n",
    "\n",
    "second AS (SELECT i.industry, \n",
    "\t\tEXTRACT(year FROM d.date_joined) AS year,\n",
    "\t\tCOUNT(*) AS num_unicorns,\n",
    "\t\tROUND(AVG(f.valuation/1000000000),2) AS average_valuation_billions -- calculates the average valuations in billions and rounds it to two decimals\n",
    "FROM industries AS i\n",
    "LEFT JOIN dates AS d -- joins the dates table to the industries table\n",
    "USING(company_id)\n",
    "LEFT JOIN funding AS f -- joins the funding table to the industries table\n",
    "USING(company_id)\n",
    "WHERE EXTRACT(year FROM d.date_joined) between 2019 AND 2021\n",
    "GROUP BY i.industry, year\n",
    "ORDER BY year DESC)\n",
    "\n",
    "-- Now the CTEs will be joined to produce the final result. \n",
    "\n",
    "SELECT \ts.industry,\n",
    "\t\ts.year,\n",
    "\t\ts.num_unicorns,\n",
    "\t\ts.average_valuation_billions\n",
    "FROM best_industry AS b\n",
    "JOIN second AS s\n",
    "ON b.industry = s.industry; -- joins both CTEs"
   ]
  }
 ],
 "metadata": {
  "colab": {
   "name": "Welcome to DataCamp Workspaces.ipynb",
   "provenance": []
  },
  "kernelspec": {
   "display_name": "Python 3 (ipykernel)",
   "language": "python",
   "name": "python3"
  },
  "language_info": {
   "codemirror_mode": {
    "name": "ipython",
    "version": 3
   },
   "file_extension": ".py",
   "mimetype": "text/x-python",
   "name": "python",
   "nbconvert_exporter": "python",
   "pygments_lexer": "ipython3",
   "version": "3.11.7"
  }
 },
 "nbformat": 4,
 "nbformat_minor": 5
}
